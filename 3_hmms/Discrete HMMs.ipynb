{
 "cells": [
  {
   "cell_type": "markdown",
   "id": "1f7b8444",
   "metadata": {
    "slideshow": {
     "slide_type": "slide"
    }
   },
   "source": [
    "# Discrete HMMs"
   ]
  },
  {
   "cell_type": "markdown",
   "id": "1d828aa9",
   "metadata": {
    "slideshow": {
     "slide_type": "slide"
    }
   },
   "source": [
    "## Agenda\n",
    "0. Updated Book Club Focus\n",
    "1. Key ideas and words\n",
    "2. Dynamax Deep dive\n",
    "3. Running through examples\n",
    "  * State estimation\n",
    "  * Parameter estimation\n",
    "4. Where I would use Dynamax in my past career\n",
    "  * Practical considerations"
   ]
  },
  {
   "cell_type": "markdown",
   "id": "9fe96d0e",
   "metadata": {},
   "source": [
    "## Book Club Focus"
   ]
  },
  {
   "cell_type": "code",
   "execution_count": 3,
   "id": "30c9d44f",
   "metadata": {},
   "outputs": [
    {
     "name": "stdout",
     "output_type": "stream",
     "text": [
      "This a modified version of dynamax for the HMM Book club session\n",
      "Code can be found herehttps://github.com/canyon289/dynamax/tree/hmm_session\n"
     ]
    }
   ],
   "source": [
    "import dynamax"
   ]
  }
 ],
 "metadata": {
  "celltoolbar": "Slideshow",
  "kernelspec": {
   "display_name": "Python 3 (ipykernel)",
   "language": "python",
   "name": "python3"
  },
  "language_info": {
   "codemirror_mode": {
    "name": "ipython",
    "version": 3
   },
   "file_extension": ".py",
   "mimetype": "text/x-python",
   "name": "python",
   "nbconvert_exporter": "python",
   "pygments_lexer": "ipython3",
   "version": "3.9.16"
  }
 },
 "nbformat": 4,
 "nbformat_minor": 5
}
