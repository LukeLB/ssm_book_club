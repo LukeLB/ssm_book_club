{
 "cells": [
  {
   "cell_type": "markdown",
   "id": "1f7b8444",
   "metadata": {
    "slideshow": {
     "slide_type": "slide"
    }
   },
   "source": [
    "# Discrete HMMs"
   ]
  },
  {
   "cell_type": "markdown",
   "id": "1d828aa9",
   "metadata": {
    "slideshow": {
     "slide_type": "slide"
    }
   },
   "source": [
    "## Agenda\n",
    "* Key ideas and words\n",
    "* HMM Overview\n",
    "  * What confused me\n",
    "* How I'm approaching this\n",
    "* Going through examples\n",
    "  * State estimation\n",
    "  * Parameter estimation\n",
    "* Where I would use Dynamax in my past career\n",
    "  * Practical considerations\n",
    "* Updated Book Club Focus"
   ]
  },
  {
   "cell_type": "markdown",
   "id": "f1a0f950",
   "metadata": {},
   "source": [
    "## References\n",
    "* This repo https://github.com/canyon289/ssm_book_club\n",
    "*  Casino HMMs from Dynamax\n",
    "    *  https://probml.github.io/dynamax/notebooks/hmm/casino_hmm_inference.html\n",
    "    * https://probml.github.io/dynamax/notebooks/hmm/casino_hmm_learning.html\n",
    "*  Complete reading of https://nipunbatra.github.io/hmm/\n"
   ]
  },
  {
   "cell_type": "markdown",
   "id": "a05855f3",
   "metadata": {},
   "source": [
    "# Key ideas and words"
   ]
  },
  {
   "cell_type": "markdown",
   "id": "6ce62e8a",
   "metadata": {
    "slideshow": {
     "slide_type": "slide"
    }
   },
   "source": [
    "## Discrete HMM\n",
    "\n",
    "$$\n",
    "\\begin{align}\n",
    "p(y_{1:T}, z_{1:T} \\mid \\theta) \n",
    "&= \\overbrace{\\mathrm{Cat}(z_1 \\mid \\pi)}^{Prior for Initial State}\n",
    "\\underbrace{\\prod_{t=2}^T \\mathrm{Cat}(z_t \\mid A_{z_{t-1}})}_{Transition Model}\n",
    "\\overbrace{\\prod_{t=1}^T \\mathrm{Cat}(y_t \\mid B_{z_t})}^{Observation Model}\n",
    "\\end{align}\n",
    "$$\n"
   ]
  },
  {
   "cell_type": "markdown",
   "id": "986aced5",
   "metadata": {
    "slideshow": {
     "slide_type": "slide"
    }
   },
   "source": [
    "## Things that were challenging to me\n",
    "* Change of symbols\n",
    "  * Duplication of symbols in same text\n",
    "  * Python variable names that correlated to these terms\n",
    "* Differing usage of words\n",
    "* Ambiguous terms\n",
    "  * Especially in the code\n",
    "* Abstractions in Dynamax\n",
    "  * Required lots of tracing"
   ]
  },
  {
   "cell_type": "markdown",
   "id": "353cf75a",
   "metadata": {
    "slideshow": {
     "slide_type": "slide"
    }
   },
   "source": [
    "## Time dependencies\n",
    "* Things that are independent of time\n",
    "  * Transition Matrix*\n",
    "  * Prior Probability\n",
    "  * Emission Prob assuming state\n",
    "  \n",
    "* Things dependent on a particular time window but independent of others\n",
    "  * Observations\n",
    "  * Log likelihood\n",
    "\n",
    "* Things that change over time\n",
    "  * State estimation\n",
    "  * Emission probability after updating state probability\n"
   ]
  },
  {
   "cell_type": "markdown",
   "id": "75f8e583",
   "metadata": {
    "slideshow": {
     "slide_type": "slide"
    }
   },
   "source": [
    "## Terminology\n",
    "* Forward Filter\n",
    "* Prediction - Estimating th next time step\n",
    "* Smoothing\n",
    "  * Forward Backward Pass\n",
    "* Viterbi Algorithm\n",
    "  * Sequence Assignment"
   ]
  },
  {
   "cell_type": "markdown",
   "id": "707ea091",
   "metadata": {},
   "source": [
    "## Symbols\n",
    "\n",
    "**Insert Symbols"
   ]
  },
  {
   "cell_type": "markdown",
   "id": "1d12b415",
   "metadata": {
    "slideshow": {
     "slide_type": "slide"
    }
   },
   "source": [
    "## Applied Example, Filtering, Smoothing,  - Biased coin toss"
   ]
  },
  {
   "cell_type": "code",
   "execution_count": 6,
   "id": "34bcbfe5",
   "metadata": {},
   "outputs": [],
   "source": [
    "import jax.numpy as jnp\n",
    "import jax.random as jr\n",
    "# import matplotlib.pyplot as plt\n",
    "from jax import vmap\n"
   ]
  },
  {
   "cell_type": "code",
   "execution_count": 2,
   "id": "30c9d44f",
   "metadata": {},
   "outputs": [
    {
     "name": "stdout",
     "output_type": "stream",
     "text": [
      "This a modified version of dynamax for the HMM Book club session\n",
      "Code can be found here https://github.com/canyon289/dynamax/tree/hmm_session\n"
     ]
    }
   ],
   "source": [
    "import dynamax\n",
    "from dynamax.hidden_markov_model import CategoricalHMM\n"
   ]
  },
  {
   "cell_type": "code",
   "execution_count": 7,
   "id": "317ee2f8",
   "metadata": {},
   "outputs": [
    {
     "name": "stderr",
     "output_type": "stream",
     "text": [
      "No GPU/TPU found, falling back to CPU. (Set TF_CPP_MIN_LOG_LEVEL=0 and rerun for more info.)\n"
     ]
    }
   ],
   "source": [
    "initial_probs = jnp.array([0.5, 0.5])\n",
    "\n",
    "transition_matrix = jnp.array([[1.0, 0.0],\n",
    "                               [0.0, 1.0]])"
   ]
  },
  {
   "cell_type": "code",
   "execution_count": null,
   "id": "f181e8a7",
   "metadata": {},
   "outputs": [],
   "source": [
    "initial_probs = jnp.array([0.5, 0.5])\n",
    "\n",
    "transition_matrix = jnp.array([[1.0, 0.0],\n",
    "                               [0.0, 1.0]])\n"
   ]
  },
  {
   "cell_type": "markdown",
   "id": "c73d03aa",
   "metadata": {},
   "source": [
    "### Basic verification using Bayes Theorem"
   ]
  },
  {
   "cell_type": "markdown",
   "id": "260c3642",
   "metadata": {},
   "source": [
    "### Non identity transition matrix"
   ]
  },
  {
   "cell_type": "markdown",
   "id": "1b9e35cd",
   "metadata": {},
   "source": [
    "## Computational complexity\n",
    "Speedups from Jax"
   ]
  },
  {
   "cell_type": "markdown",
   "id": "ca6fb18c",
   "metadata": {},
   "source": [
    "## Applied Example Parameter Learning"
   ]
  },
  {
   "cell_type": "markdown",
   "id": "09261fcf",
   "metadata": {},
   "source": [
    "## Things I noticed in the code"
   ]
  },
  {
   "cell_type": "markdown",
   "id": "9038998c",
   "metadata": {},
   "source": [
    "## Takeaways"
   ]
  },
  {
   "cell_type": "markdown",
   "id": "3912577c",
   "metadata": {},
   "source": [
    "* Jax speedups are largely around computational \n",
    "* Newer estimation Algorithms provide some speedup as well\n",
    "* Dynamax supports many features\n",
    "  * Looks like more to come"
   ]
  },
  {
   "cell_type": "markdown",
   "id": "9fe96d0e",
   "metadata": {},
   "source": [
    "## Book Club Focus"
   ]
  },
  {
   "cell_type": "markdown",
   "id": "13ab6695",
   "metadata": {},
   "source": []
  }
 ],
 "metadata": {
  "celltoolbar": "Slideshow",
  "kernelspec": {
   "display_name": "Python 3 (ipykernel)",
   "language": "python",
   "name": "python3"
  },
  "language_info": {
   "codemirror_mode": {
    "name": "ipython",
    "version": 3
   },
   "file_extension": ".py",
   "mimetype": "text/x-python",
   "name": "python",
   "nbconvert_exporter": "python",
   "pygments_lexer": "ipython3",
   "version": "3.9.16"
  }
 },
 "nbformat": 4,
 "nbformat_minor": 5
}
