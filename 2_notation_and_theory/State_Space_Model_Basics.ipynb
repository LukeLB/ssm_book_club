{
 "cells": [
  {
   "cell_type": "markdown",
   "id": "6b960713",
   "metadata": {},
   "source": [
    "# State Space Models"
   ]
  },
  {
   "cell_type": "markdown",
   "id": "215a2196",
   "metadata": {},
   "source": [
    "## Two Parts"
   ]
  },
  {
   "cell_type": "markdown",
   "id": "e475fda8",
   "metadata": {},
   "source": [
    "1. State"
   ]
  },
  {
   "cell_type": "markdown",
   "id": "c0684769",
   "metadata": {},
   "source": [
    "2. Space"
   ]
  },
  {
   "cell_type": "markdown",
   "id": "8f13b3b7",
   "metadata": {},
   "source": [
    "$$\n",
    "\\begin{align}\n",
    "p(y_{1:T}, z_{1:T} \\mid \\theta) \n",
    "&= \\mathrm{Cat}(z_1 \\mid \\pi) \n",
    "\\prod_{t=2}^T \\mathrm{Cat}(z_t \\mid A_{z_{t-1}}) \n",
    "\\prod_{t=1}^T \\mathrm{Cat}(y_t \\mid B_{z_t})\n",
    "\\end{align}\n",
    "$$"
   ]
  },
  {
   "cell_type": "markdown",
   "id": "18ca76bb",
   "metadata": {},
   "source": [
    "## Visual Representation"
   ]
  },
  {
   "cell_type": "markdown",
   "id": "e7e21007",
   "metadata": {},
   "source": [
    "Things I need to explain\n",
    "* State - The hidden thing we can't observe\n",
    "  * Transition model\n",
    "* Space - Where we see outcomes or emissions\n",
    "  * Emission model\n",
    "* Outcome or emissions"
   ]
  },
  {
   "cell_type": "markdown",
   "id": "5c880603",
   "metadata": {},
   "source": [
    "## Parts of the equation"
   ]
  },
  {
   "cell_type": "markdown",
   "id": "458ae128",
   "metadata": {},
   "source": [
    "$$\n",
    "\\begin{align}\n",
    "p(y_{1:T}, z_{1:T} \\mid \\theta) \n",
    "&= \\overbrace{\\mathrm{Cat}(z_1 \\mid \\pi)}^{Prior for Initial State}\n",
    "\\prod_{t=2}^T \\mathrm{Cat}(z_t \\mid A_{z_{t-1}})\n",
    "\\prod_{t=1}^T \\mathrm{Cat}(y_t \\mid B_{z_t})\n",
    "\\end{align}\n",
    "$$"
   ]
  },
  {
   "cell_type": "markdown",
   "id": "c0c8e809",
   "metadata": {},
   "source": [
    "## Parts of the equation"
   ]
  },
  {
   "cell_type": "markdown",
   "id": "8149c98c",
   "metadata": {},
   "source": [
    "$$\n",
    "\\begin{align}\n",
    "p(y_{1:T}, z_{1:T} \\mid \\theta) \n",
    "&= \\overbrace{\\mathrm{Cat}(z_1 \\mid \\pi)}^{Prior for Initial State}\n",
    "\\underbrace{\\prod_{t=2}^T \\mathrm{Cat}(z_t \\mid A_{z_{t-1}})}_{Transition Model}\n",
    "\\prod_{t=1}^T \\mathrm{Cat}(y_t \\mid B_{z_t})\n",
    "\\end{align}\n",
    "$$"
   ]
  },
  {
   "cell_type": "markdown",
   "id": "f0392352",
   "metadata": {},
   "source": [
    "Transmission model or dynamics model"
   ]
  },
  {
   "cell_type": "markdown",
   "id": "d7f41b09",
   "metadata": {},
   "source": [
    "## Parts of the equation"
   ]
  },
  {
   "cell_type": "markdown",
   "id": "baef781b",
   "metadata": {},
   "source": [
    "$$\n",
    "\\begin{align}\n",
    "p(y_{1:T}, z_{1:T} \\mid \\theta) \n",
    "&= \\overbrace{\\mathrm{Cat}(z_1 \\mid \\pi)}^{Prior for Initial State}\n",
    "\\underbrace{\\prod_{t=2}^T \\mathrm{Cat}(z_t \\mid A_{z_{t-1}})}_{Transition Model}\n",
    "\\overbrace{\\prod_{t=1}^T \\mathrm{Cat}(y_t \\mid B_{z_t})}^{Observation Model}\n",
    "\\end{align}\n",
    "$$"
   ]
  },
  {
   "cell_type": "markdown",
   "id": "fa76d413",
   "metadata": {},
   "source": [
    "Observation model or emissions model"
   ]
  },
  {
   "cell_type": "markdown",
   "id": "8df79812",
   "metadata": {},
   "source": [
    "## Hidden Markov Model Notation\n",
    "$$\\theta = (\\pi, A, B)$$\n",
    "\n",
    "$$A - Transition Matrix$$\n",
    "$$B - Emission Probability$$\n",
    "$$\\pi - Initial probability$$"
   ]
  },
  {
   "cell_type": "markdown",
   "id": "d4ab0fe1",
   "metadata": {},
   "source": [
    "## State Space Sequence\n",
    "<center>\n",
    "  <img src=\"img/HMMSequences.png\" style=\"height:850px\"; />\n",
    "</center>"
   ]
  },
  {
   "cell_type": "markdown",
   "id": "d5802174",
   "metadata": {},
   "source": [
    "## Dishonest Casino"
   ]
  },
  {
   "cell_type": "markdown",
   "id": "72523a3d",
   "metadata": {},
   "source": [
    "Two Dice\n",
    "* One dice is fair\n",
    "* One dice is biased\n",
    "* The dealer swaps the dice at random\n",
    "  * **Does not mean uniform random**"
   ]
  },
  {
   "cell_type": "markdown",
   "id": "b8e57572",
   "metadata": {},
   "source": [
    "* How can we tell which dice is in use based on the outcomes?\n",
    "  * While were watching live (online filtering)\n",
    "  * A replay after the fact (offline smoothing)\n",
    "* What will the next dice rolls be? (Future observations forecasting/prediction)\n",
    "* what will the next dice dice in use?(Future state forecasting/prediction)"
   ]
  },
  {
   "cell_type": "markdown",
   "id": "24ce9b0b",
   "metadata": {},
   "source": [
    "## The Task"
   ]
  },
  {
   "cell_type": "markdown",
   "id": "f894c45e",
   "metadata": {},
   "source": [
    "If we see a bunch of outcomes can we\n",
    "* What will happen?\n",
    "    * Estimate what state we are in, or were in, or will be in\n",
    "    * Estimate what we will see next\n",
    "    \n",
    "* What's the underlying truth of the world?\n",
    "    * Estimate the transition matrix parameters\n",
    "    * Estimate the emission model parameter\n",
    "    * Estimate model the starting point"
   ]
  },
  {
   "cell_type": "markdown",
   "id": "50488418",
   "metadata": {},
   "source": [
    "## Dynamax Estimators\n",
    "for point estimates\n",
    "* Stochastic Gradient Descent\n",
    "* Expectation Maximization\n",
    "\n",
    "For full posteriors\n",
    "  * HMC"
   ]
  },
  {
   "cell_type": "markdown",
   "id": "b1d4871b",
   "metadata": {},
   "source": [
    "## State Space Model Recap"
   ]
  },
  {
   "cell_type": "markdown",
   "id": "9ffe405d",
   "metadata": {},
   "source": [
    "* State and Space are primary terms\n",
    "* There are other equally valid terms terms like\n",
    "  * Emissions\n",
    "  * Observation\n",
    "  * Transition\n",
    "  * Dynamics\n",
    "* We're starting with discrete HMM\n",
    "  * No autoregressive dependency\n",
    "  * No covariate\n",
    "  * Discrete states\n",
    "* In using SSMs we may be more interested in\n",
    "  * The hidden system state\n",
    "    * Either what's next or what's to come\n",
    "    * After the fact or during the sequencing process\n",
    "  * What we well see next for observations\n",
    "  * EStimating the model parameters"
   ]
  },
  {
   "cell_type": "markdown",
   "id": "60bc0737",
   "metadata": {},
   "source": [
    "## Reading Next Time\n",
    "Full post on Discourse\n",
    "\n",
    "* Casino HMMs from Dynamax\n",
    "* Full read of https://nipunbatra.github.io/hmm/\n",
    "* Filtering (forwards algorithm)\n",
    "* Smoothing (forwards-backwards algorithm)\n",
    "* Most likely state sequence (Viterbi algorithm)"
   ]
  }
 ],
 "metadata": {
  "celltoolbar": "Edit Metadata",
  "jupytext": {
   "formats": "ipynb,md"
  },
  "kernelspec": {
   "display_name": "Python 3 (ipykernel)",
   "language": "python",
   "name": "python3"
  },
  "language_info": {
   "codemirror_mode": {
    "name": "ipython",
    "version": 3
   },
   "file_extension": ".py",
   "mimetype": "text/x-python",
   "name": "python",
   "nbconvert_exporter": "python",
   "pygments_lexer": "ipython3",
   "version": "3.10.4"
  }
 },
 "nbformat": 4,
 "nbformat_minor": 5
}
