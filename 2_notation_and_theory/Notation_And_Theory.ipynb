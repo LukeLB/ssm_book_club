{
 "cells": [
  {
   "cell_type": "markdown",
   "id": "d91b987a",
   "metadata": {},
   "source": [
    "# State Space Model Book Club"
   ]
  },
  {
   "cell_type": "markdown",
   "id": "1c8a8ce7",
   "metadata": {},
   "source": [
    "## Agenda"
   ]
  },
  {
   "cell_type": "markdown",
   "id": "42639d29",
   "metadata": {},
   "source": [
    "1. Bayesian Update Intuition\n",
    "  * Classic Coin Flips (and now Covid)\n",
    "  * AB Testing\n",
    "  \n",
    "2. How I learn notation"
   ]
  },
  {
   "cell_type": "markdown",
   "id": "2bc26616",
   "metadata": {},
   "source": [
    "## Bayes Formula"
   ]
  },
  {
   "cell_type": "markdown",
   "id": "7fd06f07",
   "metadata": {},
   "source": [
    "$$ \\underbrace{p(\\boldsymbol{\\theta} \\mid \\boldsymbol{Y})}_{\\text{posterior}} = \\frac{\\overbrace{p(\\boldsymbol{Y} \\mid \\boldsymbol{\\theta})}^{\\text{likelihood}}; \\overbrace{p(\\boldsymbol{\\theta})}^{\\text{prior}}}{\\underbrace{{{\\int_{\\boldsymbol{\\Theta}} p(\\boldsymbol{Y} \\mid \\boldsymbol{\\theta})p(\\boldsymbol{\\theta}) d\\boldsymbol{\\theta}}}}_{\\text{marginal likelihood}}} $$"
   ]
  },
  {
   "cell_type": "markdown",
   "id": "ce3bf1a0",
   "metadata": {},
   "source": [
    "## Bayesian Update"
   ]
  },
  {
   "cell_type": "markdown",
   "id": "a3308ba4",
   "metadata": {},
   "source": [
    "1. You have some prior belief\n",
    "  * It may be opinionated/informmed\n",
    "  * It may not"
   ]
  },
  {
   "cell_type": "markdown",
   "id": "e8409bc5",
   "metadata": {},
   "source": [
    "2. You get some data\n"
   ]
  },
  {
   "cell_type": "markdown",
   "id": "ad9b08cc",
   "metadata": {},
   "source": [
    "3. You update your beliefs"
   ]
  },
  {
   "cell_type": "markdown",
   "id": "eae2c2a4",
   "metadata": {},
   "source": [
    "## Simplified Bayes Formula"
   ]
  },
  {
   "cell_type": "markdown",
   "id": "57485500",
   "metadata": {},
   "source": [
    "$$\n",
    "\\text{Posterior} = \\frac{\\text{Likelihood} ; * \\text{Prior}}{\\text{Marginal-Likelihood}}\n",
    "$$"
   ]
  },
  {
   "cell_type": "markdown",
   "id": "92cbc9e3",
   "metadata": {},
   "source": [
    "## The typical problems"
   ]
  },
  {
   "cell_type": "markdown",
   "id": "17422a06",
   "metadata": {},
   "source": [
    "* Coin Flips\n",
    "* COVID \n",
    "* Monty Hall Problem"
   ]
  },
  {
   "cell_type": "markdown",
   "id": "e1c19b09",
   "metadata": {
    "slideshow": {
     "slide_type": "slide"
    }
   },
   "source": [
    "<center>\n",
    "  <img src=\"img/ProbMLCOVID.png\" style=\"height:850px\"; />\n",
    "</center>"
   ]
  },
  {
   "cell_type": "markdown",
   "id": "b390a63c",
   "metadata": {},
   "source": [
    "## Covid Prevalance"
   ]
  },
  {
   "cell_type": "markdown",
   "id": "75c99b18",
   "metadata": {},
   "source": [
    "$$\n",
    "P(SF) = \\text{10%} \\\\\n",
    "P(\\text{~}SF) = \\text{90%}\n",
    "$$"
   ]
  },
  {
   "cell_type": "markdown",
   "id": "40e99538",
   "metadata": {},
   "source": [
    "## Likelihood of posistive test"
   ]
  },
  {
   "cell_type": "markdown",
   "id": "ace99bde",
   "metadata": {},
   "source": [
    "$$\n",
    "P(PT | SF) = \\text{Chance of a positive test given the person has space-flu.} \\\\\n",
    "P(PT | \\text{~}SF) = \\text{Chance of a positive test given the person doesn’t have space flu.}\n",
    "$$"
   ]
  },
  {
   "cell_type": "markdown",
   "id": "3dbadd20",
   "metadata": {},
   "source": [
    "$$\n",
    "P(PT \\mid SF) = \\text{90%} \\\\\n",
    "P(PT \\mid \\text{~}SF) = \\text{20%}\n",
    "$$"
   ]
  },
  {
   "cell_type": "markdown",
   "id": "e3a6bbb6",
   "metadata": {},
   "source": [
    "## Covid in code"
   ]
  },
  {
   "cell_type": "code",
   "execution_count": 1,
   "id": "8d4e9f40",
   "metadata": {},
   "outputs": [],
   "source": [
    "prior = [.1, .9]  # P(SF), P(~SF)\n",
    "likelihood = [.9, .2]  # P(PT | SF), p(PT | ~SF)"
   ]
  },
  {
   "cell_type": "code",
   "execution_count": 2,
   "id": "a521130e",
   "metadata": {},
   "outputs": [],
   "source": [
    "unnormalized_posterior = [None, None]\n",
    "unnormalized_posterior[0] = likelihood[0]*prior[0]\n",
    "unnormalized_posterior[1] = likelihood[1]*prior[1]"
   ]
  },
  {
   "cell_type": "code",
   "execution_count": 3,
   "id": "510fdea2",
   "metadata": {},
   "outputs": [],
   "source": [
    "marginal_likelihood = likelihood[0]*prior[0] + likelihood[1]*prior[1]"
   ]
  },
  {
   "cell_type": "code",
   "execution_count": 4,
   "id": "69fcd4fe",
   "metadata": {},
   "outputs": [
    {
     "data": {
      "text/plain": [
       "[0.33333333333333337, 0.6666666666666667]"
      ]
     },
     "execution_count": 4,
     "metadata": {},
     "output_type": "execute_result"
    }
   ],
   "source": [
    "posterior = [None, None]\n",
    "posterior[0] = unnormalized_posterior[0] / marginal_likelihood\n",
    "posterior[1] = unnormalized_posterior[1] / marginal_likelihood  \n",
    "posterior"
   ]
  },
  {
   "cell_type": "markdown",
   "id": "4110525b",
   "metadata": {},
   "source": [
    "## COVID Example Visualized"
   ]
  },
  {
   "cell_type": "markdown",
   "id": "708c3890",
   "metadata": {},
   "source": [
    "**Insert Upload to Youtube here**"
   ]
  },
  {
   "cell_type": "markdown",
   "id": "81ed4869",
   "metadata": {},
   "source": [
    "## Inverse Problems"
   ]
  },
  {
   "cell_type": "markdown",
   "id": "1c50d106",
   "metadata": {},
   "source": [
    "<center>\n",
    "  <img src=\"img/InverseProblems.png\" style=\"height:850px\"; />\n",
    "</center>"
   ]
  },
  {
   "cell_type": "markdown",
   "id": "6ac630ab",
   "metadata": {},
   "source": [
    "## We see something, what do we learn?\n",
    "Not, we know something (probability values) what is the probability of some subevent occurring?"
   ]
  },
  {
   "cell_type": "markdown",
   "id": "a78adc8f",
   "metadata": {},
   "source": [
    "## User Conversion Probability on a website?"
   ]
  },
  {
   "cell_type": "markdown",
   "id": "9346497a",
   "metadata": {},
   "source": [
    "* A 100 visitors visit us\n",
    "* 8 Convert\n",
    "\n",
    "What is the conversion rate?"
   ]
  },
  {
   "cell_type": "markdown",
   "id": "da525023",
   "metadata": {},
   "source": [
    "## What are **possible conversion rates**"
   ]
  },
  {
   "cell_type": "markdown",
   "id": "fb9f7415",
   "metadata": {},
   "source": [
    "Possible conversion rates\n",
    "\n",
    "* 0%\n",
    "* 8%\n",
    "* 20%\n",
    "* 31%\n",
    "* 88%\n",
    "* 99%"
   ]
  },
  {
   "cell_type": "markdown",
   "id": "fbbd60d6",
   "metadata": {},
   "source": [
    "All are possible, except 0%"
   ]
  },
  {
   "cell_type": "markdown",
   "id": "59b28023",
   "metadata": {},
   "source": [
    "## What is the plausibility of the conversion rates?"
   ]
  },
  {
   "cell_type": "markdown",
   "id": "98dcc54b",
   "metadata": {},
   "source": [
    "### Lets start with priors"
   ]
  },
  {
   "cell_type": "code",
   "execution_count": null,
   "id": "2f5b524f",
   "metadata": {},
   "outputs": [],
   "source": [
    "pz.Beta(2, 2).plot_pdf(figsize=(24,12));"
   ]
  },
  {
   "cell_type": "markdown",
   "id": "ff1a5024",
   "metadata": {},
   "source": [
    "## Bayesian Update"
   ]
  },
  {
   "cell_type": "code",
   "execution_count": null,
   "id": "b96d28df",
   "metadata": {},
   "outputs": [],
   "source": [
    "num_conversions = 8\n",
    "num_non_conversions = 100 - num_conversions\n",
    "pz.Beta(2+8, 2+num_non_conversions).plot_pdf();"
   ]
  },
  {
   "cell_type": "markdown",
   "id": "fbba4d60",
   "metadata": {},
   "source": [
    "## Relatively Plausibility of all possible beliefs"
   ]
  },
  {
   "cell_type": "code",
   "execution_count": null,
   "id": "cda78756",
   "metadata": {},
   "outputs": [],
   "source": [
    "num_conversions = 8\n",
    "num_non_conversions = 100 - num_conversions\n",
    "pz.Beta(2+8, 2+num_non_conversions).plot_pdf();"
   ]
  },
  {
   "cell_type": "markdown",
   "id": "1c8aa33c",
   "metadata": {},
   "source": [
    "## Bayesian Update with a PPL"
   ]
  },
  {
   "cell_type": "code",
   "execution_count": null,
   "id": "cc5d7116",
   "metadata": {
    "lines_to_next_cell": 0
   },
   "outputs": [],
   "source": [
    "with pm.Model() as model:\n",
    "    θ = pm.Beta(\"θ\", 2, 10)\n",
    "    y = pm.Binomial(\"y\", n=1, p=θ, observed=signups)\n",
    "    trace = pm,sample()"
   ]
  },
  {
   "cell_type": "markdown",
   "id": "71278d66",
   "metadata": {},
   "source": [
    "\n"
   ]
  },
  {
   "cell_type": "markdown",
   "id": "9a900b65",
   "metadata": {},
   "source": [
    "## What's the difference\n"
   ]
  },
  {
   "cell_type": "markdown",
   "id": "21c7a06e",
   "metadata": {},
   "source": [
    "* Conjugate Model - Pure \"pen on paper math\"\n",
    "  * No computer needed\n",
    "  * Exact\n",
    "  * Very restricted to specific prior likelihood combinations"
   ]
  },
  {
   "cell_type": "markdown",
   "id": "e42a714e",
   "metadata": {},
   "source": [
    "* Markov Chain Monte Carlo algorithms\n",
    "  * Not very practical without computers\n",
    "  * Enables \n",
    "  * Generally applicable"
   ]
  },
  {
   "cell_type": "markdown",
   "id": "71640714",
   "metadata": {},
   "source": [
    "## Dynamax Book Club Takeaway"
   ]
  },
  {
   "cell_type": "markdown",
   "id": "f4920678",
   "metadata": {},
   "source": [
    "* Various SSMs have \"pen and paper\" solutions\n",
    "* With tools like Dyna"
   ]
  },
  {
   "cell_type": "markdown",
   "id": "7dcb6df1",
   "metadata": {},
   "source": [
    "We want to learn both the traditional techniques **and** what newer tools like JAX and Dynamax let us solve\n",
    "\n",
    "\n",
    "\n",
    "\n",
    "\n"
   ]
  },
  {
   "cell_type": "markdown",
   "id": "48cbf9a9",
   "metadata": {},
   "source": [
    "## Bayesian Intution Recap"
   ]
  },
  {
   "cell_type": "markdown",
   "id": "746bb569",
   "metadata": {},
   "source": [
    "* Bayes theorem is a philosophy for how we can update our beliefs given observations\n",
    "* ProbML calls outcome -> belief mapping inverse probability\n",
    "* What we care about is the relative plausibiilty"
   ]
  }
 ],
 "metadata": {
  "celltoolbar": "Slideshow",
  "jupytext": {
   "formats": "ipynb,md"
  },
  "kernelspec": {
   "display_name": "Python 3 (ipykernel)",
   "language": "python",
   "name": "python3"
  },
  "language_info": {
   "codemirror_mode": {
    "name": "ipython",
    "version": 3
   },
   "file_extension": ".py",
   "mimetype": "text/x-python",
   "name": "python",
   "nbconvert_exporter": "python",
   "pygments_lexer": "ipython3",
   "version": "3.10.4"
  }
 },
 "nbformat": 4,
 "nbformat_minor": 5
}
