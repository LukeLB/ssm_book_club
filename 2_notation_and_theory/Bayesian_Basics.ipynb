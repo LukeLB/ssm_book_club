{
 "cells": [
  {
   "cell_type": "markdown",
   "id": "b0ea2b30",
   "metadata": {},
   "source": [
    "# State Space Model Book Club"
   ]
  },
  {
   "cell_type": "code",
   "execution_count": null,
   "id": "48a21028",
   "metadata": {},
   "outputs": [],
   "source": [
    "import numpy as np\n",
    "import pymc as pm\n",
    "import arviz as az\n",
    "import pandas as pd\n",
    "import preliz as pz\n",
    "\n",
    "import matplotlib.pyplot as plt"
   ]
  },
  {
   "cell_type": "markdown",
   "id": "56224c0d",
   "metadata": {},
   "source": [
    "## Agenda"
   ]
  },
  {
   "cell_type": "markdown",
   "id": "533e520d",
   "metadata": {},
   "source": [
    "1. Bayesian Update Intuition\n",
    "  * Classic Coin Flips (and now Covid)\n",
    "  * AB Testing\n",
    "  \n",
    "2. How I learn notation"
   ]
  },
  {
   "cell_type": "markdown",
   "id": "094d8150",
   "metadata": {},
   "source": [
    "## Bayes Formula"
   ]
  },
  {
   "cell_type": "markdown",
   "id": "f5a4a627",
   "metadata": {},
   "source": [
    "$$ \\underbrace{p(\\boldsymbol{\\theta} \\mid \\boldsymbol{Y})}_{\\text{posterior}} = \\frac{\\overbrace{p(\\boldsymbol{Y} \\mid \\boldsymbol{\\theta})}^{\\text{likelihood}}; \\overbrace{p(\\boldsymbol{\\theta})}^{\\text{prior}}}{\\underbrace{{{\\int_{\\boldsymbol{\\Theta}} p(\\boldsymbol{Y} \\mid \\boldsymbol{\\theta})p(\\boldsymbol{\\theta}) d\\boldsymbol{\\theta}}}}_{\\text{marginal likelihood}}} $$"
   ]
  },
  {
   "cell_type": "markdown",
   "id": "49dc50fb",
   "metadata": {},
   "source": [
    "## Bayesian Update"
   ]
  },
  {
   "cell_type": "markdown",
   "id": "27d7726f",
   "metadata": {},
   "source": [
    "1. You have some prior belief\n",
    "  * It may be opinionated/informmed\n",
    "  * It may not"
   ]
  },
  {
   "cell_type": "markdown",
   "id": "e49d7446",
   "metadata": {},
   "source": [
    "2. You get some data\n"
   ]
  },
  {
   "cell_type": "markdown",
   "id": "43404f6f",
   "metadata": {},
   "source": [
    "3. You update your beliefs"
   ]
  },
  {
   "cell_type": "markdown",
   "id": "593f4e24",
   "metadata": {},
   "source": [
    "## Simplified Bayes Formula"
   ]
  },
  {
   "cell_type": "markdown",
   "id": "a01933c4",
   "metadata": {},
   "source": [
    "$$\n",
    "\\text{Posterior} = \\frac{\\text{Likelihood} ; * \\text{Prior}}{\\text{Marginal-Likelihood}}\n",
    "$$"
   ]
  },
  {
   "cell_type": "markdown",
   "id": "fbec7d40",
   "metadata": {},
   "source": [
    "## The typical problems"
   ]
  },
  {
   "cell_type": "markdown",
   "id": "360b0b75",
   "metadata": {},
   "source": [
    "* Coin Flips\n",
    "* COVID \n",
    "* Monty Hall Problem"
   ]
  },
  {
   "cell_type": "markdown",
   "id": "083279dd",
   "metadata": {
    "slideshow": {
     "slide_type": "slide"
    }
   },
   "source": [
    "<center>\n",
    "  <img src=\"img/ProbMLCOVID.png\" style=\"height:850px\"; />\n",
    "</center>"
   ]
  },
  {
   "cell_type": "markdown",
   "id": "b5d357a7",
   "metadata": {},
   "source": [
    "## Covid Prevalance"
   ]
  },
  {
   "cell_type": "markdown",
   "id": "75852332",
   "metadata": {},
   "source": [
    "$$\n",
    "P(SF) = \\text{10%} \\\\\n",
    "P(\\text{~}SF) = \\text{90%}\n",
    "$$"
   ]
  },
  {
   "cell_type": "markdown",
   "id": "54bcecba",
   "metadata": {},
   "source": [
    "## Likelihood of posistive test"
   ]
  },
  {
   "cell_type": "markdown",
   "id": "8160eddb",
   "metadata": {},
   "source": [
    "$$\n",
    "P(PT | SF) = \\text{Chance of a positive test given the person has space-flu.} \\\\\n",
    "P(PT | \\text{~}SF) = \\text{Chance of a positive test given the person doesn’t have space flu.}\n",
    "$$"
   ]
  },
  {
   "cell_type": "markdown",
   "id": "7db68958",
   "metadata": {},
   "source": [
    "$$\n",
    "P(PT \\mid SF) = \\text{90%} \\\\\n",
    "P(PT \\mid \\text{~}SF) = \\text{20%}\n",
    "$$"
   ]
  },
  {
   "cell_type": "markdown",
   "id": "19a6ce30",
   "metadata": {},
   "source": [
    "## Covid in code"
   ]
  },
  {
   "cell_type": "code",
   "execution_count": null,
   "id": "efd07dec",
   "metadata": {},
   "outputs": [],
   "source": [
    "prior = [.1, .9]  # P(SF), P(~SF)\n",
    "likelihood = [.9, .2]  # P(PT | SF), p(PT | ~SF)"
   ]
  },
  {
   "cell_type": "code",
   "execution_count": null,
   "id": "3fac8b9a",
   "metadata": {},
   "outputs": [],
   "source": [
    "unnormalized_posterior = [None, None]\n",
    "unnormalized_posterior[0] = likelihood[0]*prior[0]\n",
    "unnormalized_posterior[1] = likelihood[1]*prior[1]"
   ]
  },
  {
   "cell_type": "code",
   "execution_count": null,
   "id": "3d8b7f70",
   "metadata": {},
   "outputs": [],
   "source": [
    "marginal_likelihood = likelihood[0]*prior[0] + likelihood[1]*prior[1]"
   ]
  },
  {
   "cell_type": "code",
   "execution_count": null,
   "id": "b6998dba",
   "metadata": {},
   "outputs": [],
   "source": [
    "posterior = [None, None]\n",
    "posterior[0] = unnormalized_posterior[0] / marginal_likelihood\n",
    "posterior[1] = unnormalized_posterior[1] / marginal_likelihood  \n",
    "posterior"
   ]
  },
  {
   "cell_type": "markdown",
   "id": "8cdf54b0",
   "metadata": {},
   "source": [
    "## COVID Example Visualized"
   ]
  },
  {
   "cell_type": "markdown",
   "id": "20391b15",
   "metadata": {},
   "source": [
    "**Insert Upload to Youtube here**"
   ]
  },
  {
   "cell_type": "markdown",
   "id": "23b960bf",
   "metadata": {},
   "source": [
    "## Inverse Problems"
   ]
  },
  {
   "cell_type": "markdown",
   "id": "cfd75807",
   "metadata": {},
   "source": [
    "<center>\n",
    "  <img src=\"img/InverseProblems.png\" style=\"height:850px\"; />\n",
    "</center>"
   ]
  },
  {
   "cell_type": "markdown",
   "id": "5ba380b6",
   "metadata": {},
   "source": [
    "## We see something, what do we learn?\n",
    "Not, we know something (probability values) what is the probability of some subevent occurring?"
   ]
  },
  {
   "cell_type": "markdown",
   "id": "56ef0f91",
   "metadata": {},
   "source": [
    "## User Conversion Probability on a website?"
   ]
  },
  {
   "cell_type": "markdown",
   "id": "a72425c7",
   "metadata": {},
   "source": [
    "* A 100 visitors visit us\n",
    "* 8 Convert\n",
    "\n",
    "What is the conversion rate?"
   ]
  },
  {
   "cell_type": "markdown",
   "id": "b5a88591",
   "metadata": {},
   "source": [
    "## What are **possible conversion rates**"
   ]
  },
  {
   "cell_type": "markdown",
   "id": "ad680519",
   "metadata": {},
   "source": [
    "Possible conversion rates\n",
    "\n",
    "* 0%\n",
    "* 8%\n",
    "* 20%\n",
    "* 31%\n",
    "* 88%\n",
    "* 99%"
   ]
  },
  {
   "cell_type": "markdown",
   "id": "9cdcb890",
   "metadata": {},
   "source": [
    "All are possible, except 0%"
   ]
  },
  {
   "cell_type": "markdown",
   "id": "59c93504",
   "metadata": {},
   "source": [
    "## What is the plausibility of the conversion rates?"
   ]
  },
  {
   "cell_type": "markdown",
   "id": "bccde45b",
   "metadata": {
    "slideshow": {
     "slide_type": "slide"
    }
   },
   "source": [
    "### Lets start with priors"
   ]
  },
  {
   "cell_type": "code",
   "execution_count": null,
   "id": "6c59388d",
   "metadata": {},
   "outputs": [],
   "source": [
    "pz.Beta(1, 1).plot_pdf(figsize=(20,8));"
   ]
  },
  {
   "cell_type": "markdown",
   "id": "2e98388e",
   "metadata": {},
   "source": [
    "## Bayesian Update"
   ]
  },
  {
   "cell_type": "code",
   "execution_count": null,
   "id": "39b60208",
   "metadata": {},
   "outputs": [],
   "source": [
    "num_conversions = 8\n",
    "num_non_conversions = 100 - num_conversions\n",
    "pz.Beta(1+num_conversions, 1+num_non_conversions).plot_pdf();"
   ]
  },
  {
   "cell_type": "markdown",
   "id": "0c7199be",
   "metadata": {},
   "source": [
    "## Relative Plausibility of all possible beliefs"
   ]
  },
  {
   "cell_type": "code",
   "execution_count": null,
   "id": "cad8b14f",
   "metadata": {},
   "outputs": [],
   "source": [
    "num_conversions = 8\n",
    "num_visits = 100\n",
    "num_non_conversions = num_visits - num_conversions\n",
    "pz.Beta(2+8, 2+num_non_conversions).plot_pdf();"
   ]
  },
  {
   "cell_type": "markdown",
   "id": "e9946a19",
   "metadata": {},
   "source": [
    "## Bayesian Update with a PPL"
   ]
  },
  {
   "cell_type": "code",
   "execution_count": null,
   "id": "8db93609",
   "metadata": {
    "lines_to_next_cell": 0
   },
   "outputs": [],
   "source": [
    "with pm.Model() as model:\n",
    "    θ = pm.Beta(\"θ\", 1, 1)\n",
    "    y = pm.Binomial(\"y\", n=num_visits, p=θ, observed=num_conversions)\n",
    "    trace = pm.sample()"
   ]
  },
  {
   "cell_type": "code",
   "execution_count": null,
   "id": "af070489",
   "metadata": {},
   "outputs": [],
   "source": [
    "az.plot_trace(trace);"
   ]
  },
  {
   "cell_type": "markdown",
   "id": "f545b11d",
   "metadata": {},
   "source": [
    "## What's the difference\n"
   ]
  },
  {
   "cell_type": "markdown",
   "id": "d1da1bd1",
   "metadata": {},
   "source": [
    "* Conjugate Model - Pure \"pen on paper math\"\n",
    "  * No computer needed\n",
    "  * Exact\n",
    "  * Very restricted to specific prior likelihood combinations"
   ]
  },
  {
   "cell_type": "markdown",
   "id": "101756f0",
   "metadata": {},
   "source": [
    "* Markov Chain Monte Carlo algorithms\n",
    "  * Not very practical without computers\n",
    "  * Enables \n",
    "  * Generally applicable"
   ]
  },
  {
   "cell_type": "markdown",
   "id": "681727f4",
   "metadata": {},
   "source": [
    "## Relation to this book club"
   ]
  },
  {
   "cell_type": "markdown",
   "id": "29302ee7",
   "metadata": {},
   "source": [
    "* Various SSMs have \"pen and paper\" solutions\n",
    "* With tools like Dynamax different and more complex models may be solvable\n",
    "  * Dynamax supports MCMC through blackjax so we might see this ater"
   ]
  },
  {
   "cell_type": "markdown",
   "id": "34f2af6f",
   "metadata": {
    "slideshow": {
     "slide_type": "fragment"
    }
   },
   "source": [
    "We want to learn both the traditional techniques **and** what newer tools like JAX and Dynamax let us solve"
   ]
  },
  {
   "cell_type": "markdown",
   "id": "b5c6585a",
   "metadata": {},
   "source": [
    "## Bayesian Linear Regression of Penguins"
   ]
  },
  {
   "cell_type": "code",
   "execution_count": null,
   "id": "64c4f955",
   "metadata": {},
   "outputs": [],
   "source": [
    "penguins_url = \"https://gist.githubusercontent.com/slopp/ce3b90b9168f2f921784de84fa445651/raw/4ecf3041f0ed4913e7c230758733948bc561f434/penguins.csv\"\n",
    "penguins = pd.read_csv(penguins_url)\n",
    "# Subset to the columns needed\n",
    "missing_data = penguins.isnull()[\n",
    "    [\"bill_length_mm\", \"flipper_length_mm\", \"sex\", \"body_mass_g\"]\n",
    "].any(axis=1)\n",
    "# Drop rows with any missing data\n",
    "penguins = penguins.loc[~missing_data]\n",
    "\n",
    "adelie_mask = (penguins[\"species\"] == \"Adelie\")\n",
    "adelie_mass_obs = penguins.loc[adelie_mask, \"body_mass_g\"].values\n",
    "adelie_flipper_length_obs = penguins.loc[adelie_mask, \"flipper_length_mm\"]\n"
   ]
  },
  {
   "cell_type": "code",
   "execution_count": null,
   "id": "1c4f33e5",
   "metadata": {},
   "outputs": [],
   "source": [
    "fig, ax = plt.subplots()\n",
    "\n",
    "\n",
    "ax.scatter(adelie_flipper_length_obs, adelie_mass_obs)\n",
    "\n",
    "ax.set_xlabel('Flipper Length')\n",
    "ax.set_ylabel('Mass');"
   ]
  },
  {
   "cell_type": "code",
   "execution_count": null,
   "id": "40be9b7f",
   "metadata": {},
   "outputs": [],
   "source": [
    "\n",
    "with pm.Model() as model_adelie_flipper_regression:\n",
    "    # pm.Data allows us to change the underlying value in a later code block\n",
    "    adelie_flipper_length = pm.Data(\"adelie_flipper_length\",\n",
    "                                    adelie_flipper_length_obs)\n",
    "    σ = pm.HalfStudentT(\"σ\", 100, 2000)\n",
    "    β_0 = pm.Normal(\"β_0\", 0, 4000)\n",
    "    β_1 = pm.Normal(\"β_1\", 0, 4000)\n",
    "    μ = pm.Deterministic(\"μ\", β_0 + β_1 * adelie_flipper_length)\n",
    "\n",
    "    mass = pm.Normal(\"mass\", mu=μ, sigma=σ, observed = adelie_mass_obs)\n",
    "\n",
    "    inf_data_adelie_flipper_regression = pm.sample(return_inferencedata=True)\n"
   ]
  },
  {
   "cell_type": "code",
   "execution_count": null,
   "id": "fdac8fb9",
   "metadata": {},
   "outputs": [],
   "source": [
    "fig, ax = plt.subplots()\n",
    "alpha_m = inf_data_adelie_flipper_regression.posterior.mean().to_dict()[\"data_vars\"][\"β_0\"][\"data\"]\n",
    "beta_m = inf_data_adelie_flipper_regression.posterior.mean().to_dict()[\"data_vars\"][\"β_1\"][\"data\"]\n",
    "\n",
    "flipper_length = np.linspace(adelie_flipper_length_obs.min(), adelie_flipper_length_obs.max(), 100)\n",
    "\n",
    "flipper_length_mean = alpha_m + beta_m * flipper_length\n",
    "ax.plot(flipper_length, flipper_length_mean, c='g', lw=4,\n",
    "         label=f'y = {alpha_m:.2f} + {beta_m:.2f} * x')\n",
    "\n",
    "ax.scatter(adelie_flipper_length_obs, adelie_mass_obs)\n",
    "\n",
    "# Figure out how to do this from inference data\n",
    "az.plot_hdi(adelie_flipper_length_obs, inf_data_adelie_flipper_regression.posterior['μ'], hdi_prob=0.94, color='k', ax=ax)\n",
    "\n",
    "ax.set_xlabel('Flipper Length')\n",
    "ax.set_ylabel('Mass');"
   ]
  },
  {
   "cell_type": "markdown",
   "id": "887d19aa",
   "metadata": {},
   "source": [
    "## Dynamax Book Club Takeaway"
   ]
  },
  {
   "cell_type": "markdown",
   "id": "e6582da9",
   "metadata": {},
   "source": [
    "* Bayes theorem is a philosophy for how we can update our beliefs given observations\n",
    "* ProbML calls outcome -> belief mapping inverse probability\n",
    "* What we care about is the relative plausibiilty\n",
    "* For the same model there can be different estimators\n",
    "  * Each as their tradeoffs\n",
    "  * Computer enables newer ones not possible in the past"
   ]
  }
 ],
 "metadata": {
  "jupytext": {
   "formats": "ipynb,md"
  },
  "kernelspec": {
   "display_name": "Python 3 (ipykernel)",
   "language": "python",
   "name": "python3"
  }
 },
 "nbformat": 4,
 "nbformat_minor": 5
}
