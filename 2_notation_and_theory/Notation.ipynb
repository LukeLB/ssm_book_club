{
 "cells": [
  {
   "cell_type": "markdown",
   "id": "cba7c90b",
   "metadata": {},
   "source": [
    "# How I Learn Notation"
   ]
  },
  {
   "cell_type": "markdown",
   "id": "d1f20832",
   "metadata": {},
   "source": [
    "## Why Notation"
   ]
  },
  {
   "cell_type": "markdown",
   "id": "9012973e",
   "metadata": {},
   "source": [
    "1. It's the most compact and precise way to represent math\n",
    "2. There's no way to avoid it with the texts we've picked"
   ]
  },
  {
   "cell_type": "markdown",
   "id": "994f707c",
   "metadata": {},
   "source": [
    "## Full State Space Model Equation"
   ]
  },
  {
   "cell_type": "markdown",
   "id": "9cb901e5",
   "metadata": {},
   "source": [
    "$$p(y_{1:T}, z_{1:T} | u_{1:T}) = p(z_1 | u_1) p(y_1 | z_1, u_1) \\prod_{t=1}^T p(z_t | z_{t-1}, u_t) p(y_t | z_t, u_t)$$"
   ]
  },
  {
   "cell_type": "markdown",
   "id": "df58f3ca",
   "metadata": {},
   "source": [
    "ProbML Equation 29.5"
   ]
  },
  {
   "cell_type": "markdown",
   "id": "9c0a2cab",
   "metadata": {},
   "source": [
    "## Bayes Theorem"
   ]
  },
  {
   "cell_type": "markdown",
   "id": "bc55a43f",
   "metadata": {},
   "source": [
    "$$ \\underbrace{p(\\boldsymbol{\\theta} \\mid \\boldsymbol{Y})}_{\\text{posterior}} = \\frac{\\overbrace{p(\\boldsymbol{Y} \\mid \\boldsymbol{\\theta})}^{\\text{likelihood}}; \\overbrace{p(\\boldsymbol{\\theta})}^{\\text{prior}}}{\\underbrace{{{\\int_{\\boldsymbol{\\Theta}} p(\\boldsymbol{Y} \\mid \\boldsymbol{\\theta})p(\\boldsymbol{\\theta}) d\\boldsymbol{\\theta}}}}_{\\text{marginal likelihood}}} $$"
   ]
  },
  {
   "cell_type": "markdown",
   "id": "8648ac10",
   "metadata": {},
   "source": [
    "## My steps"
   ]
  },
  {
   "cell_type": "markdown",
   "id": "48d89271",
   "metadata": {},
   "source": [
    "1. Understand the fundamental philosophy\n",
    "2. Find the simplest applied example\n",
    "  * Typically in code\n",
    "3. Implement it myself\n",
    "4. Add complexity one step at a time"
   ]
  },
  {
   "cell_type": "markdown",
   "id": "609a0515",
   "metadata": {},
   "source": [
    "This is what we did just did for Bayes Theorem"
   ]
  },
  {
   "cell_type": "markdown",
   "id": "d55ebc65",
   "metadata": {},
   "source": [
    "## Bayes Theorem Simplified"
   ]
  },
  {
   "cell_type": "markdown",
   "id": "c078c811",
   "metadata": {},
   "source": [
    "Started here"
   ]
  },
  {
   "cell_type": "markdown",
   "id": "92beccd8",
   "metadata": {},
   "source": [
    "$$\n",
    "\\text{Posterior} = \\frac{\\text{Likelihood} ; * \\text{Prior}}{\\text{Marginal-Likelihood}}\n",
    "$$"
   ]
  },
  {
   "cell_type": "markdown",
   "id": "3515b654",
   "metadata": {},
   "source": [
    "From there we built back up to Linear Regression"
   ]
  },
  {
   "cell_type": "markdown",
   "id": "a1687474",
   "metadata": {},
   "source": [
    "## Things I looks for"
   ]
  },
  {
   "cell_type": "markdown",
   "id": "c786a801",
   "metadata": {},
   "source": [
    "1. What type of math am I dealing with?\n",
    "  * Probability\n",
    "  * Distributions\n",
    "  * Integrals etc\n",
    "2. Figure out what's a scalar, vector, matrix\n",
    "  * Figure out whats a real number, indicator, random variable\n",
    "3. Pay attention to shapes"
   ]
  },
  {
   "cell_type": "markdown",
   "id": "823f0460",
   "metadata": {},
   "source": [
    "## State Space Model Simplified Version"
   ]
  },
  {
   "cell_type": "markdown",
   "id": "cdeabe14",
   "metadata": {},
   "source": [
    "\\begin{align}\n",
    "p(y_{1:T}, z_{1:T} \\mid \\theta) \n",
    "&= \\mathrm{Cat}(z_1 \\mid \\pi) \n",
    "\\prod_{t=2}^T \\mathrm{Cat}(z_t \\mid A_{z_{t-1}}) \n",
    "\\prod_{t=1}^T \\mathrm{Cat}(y_t \\mid B_{z_t})\n",
    "\\end{align}"
   ]
  },
  {
   "cell_type": "markdown",
   "id": "32560d12",
   "metadata": {},
   "source": [
    "* Hidden Markov Model\n",
    "    * No covariates\n",
    "    * Categorical discrete outcomes"
   ]
  },
  {
   "cell_type": "markdown",
   "id": "10f0bdbc",
   "metadata": {},
   "source": [
    "## Use the Symbol ist often"
   ]
  },
  {
   "cell_type": "markdown",
   "id": "b479cf23",
   "metadata": {},
   "source": [
    "Its on github\n"
   ]
  },
  {
   "cell_type": "markdown",
   "id": "6c72a58c",
   "metadata": {},
   "source": [
    "##"
   ]
  },
  {
   "cell_type": "markdown",
   "id": "fe153af2",
   "metadata": {},
   "source": [
    "## State Space Models"
   ]
  },
  {
   "cell_type": "markdown",
   "id": "2482bf0b",
   "metadata": {},
   "source": [
    "Things I need to explain\n",
    "* State - The hidden thing we can't observe\n",
    "  * Transition model\n",
    "* Space - Where we see outcomes or emissions\n",
    "  * Emission model\n",
    "* Outcome or emissions"
   ]
  },
  {
   "cell_type": "markdown",
   "id": "183cd250",
   "metadata": {},
   "source": [
    "## Set of hidden states"
   ]
  },
  {
   "cell_type": "code",
   "execution_count": null,
   "id": "38285579",
   "metadata": {},
   "outputs": [],
   "source": []
  },
  {
   "cell_type": "markdown",
   "id": "d51c29b6",
   "metadata": {},
   "source": [
    "## Time steps"
   ]
  },
  {
   "cell_type": "code",
   "execution_count": null,
   "id": "302dc044",
   "metadata": {},
   "outputs": [],
   "source": []
  },
  {
   "cell_type": "markdown",
   "id": "b0a37c9a",
   "metadata": {},
   "source": [
    "## Observations at those time steps"
   ]
  },
  {
   "cell_type": "markdown",
   "id": "fce37ce6",
   "metadata": {},
   "source": [
    "## Notation\n",
    "$$\\theta = (\\pi, A, B)$$\n",
    "\n",
    "A - Transition Matrix\n",
    "B - Emission Probability\n",
    "$\\pi$ - Initial probability"
   ]
  },
  {
   "cell_type": "markdown",
   "id": "9e3d2aa5",
   "metadata": {},
   "source": [
    "What I can do here is build up the diagram one piece at a time to talk through initial state, state, space"
   ]
  },
  {
   "cell_type": "markdown",
   "id": "082a357a",
   "metadata": {},
   "source": [
    "## The Task"
   ]
  },
  {
   "cell_type": "markdown",
   "id": "18128eac",
   "metadata": {},
   "source": [
    "If we see a bunch of outcomes can we\n",
    "* Estimate what state we are in, or were in, or will be in\n",
    "* Estimate the transition matrix\n",
    "  * If we don't know it\n",
    "* Estimate the starting point\n",
    "  * Less useful most of the time but "
   ]
  },
  {
   "cell_type": "markdown",
   "id": "cfb917d7",
   "metadata": {},
   "source": [
    "## Estimators\n",
    "for point estimates\n",
    "* Stochastic Gradient Descent\n",
    "* Expectation Maximization\n",
    "\n",
    "For full posteriors\n",
    "  * HMC"
   ]
  },
  {
   "cell_type": "markdown",
   "id": "72ab1c5a",
   "metadata": {},
   "source": [
    "## Next Time\n",
    "* Casino HMM\n",
    "* Filtering (forwards algorithm)\n",
    "* Smoothing (forwards-backwards algorithm)\n",
    "* Most likely state sequence (Viterbi algorithm)"
   ]
  }
 ],
 "metadata": {
  "jupytext": {
   "formats": "ipynb,md"
  },
  "kernelspec": {
   "display_name": "Python 3 (ipykernel)",
   "language": "python",
   "name": "python3"
  },
  "language_info": {
   "codemirror_mode": {
    "name": "ipython",
    "version": 3
   },
   "file_extension": ".py",
   "mimetype": "text/x-python",
   "name": "python",
   "nbconvert_exporter": "python",
   "pygments_lexer": "ipython3",
   "version": "3.10.4"
  }
 },
 "nbformat": 4,
 "nbformat_minor": 5
}
